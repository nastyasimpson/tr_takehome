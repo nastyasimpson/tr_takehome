{
 "cells": [
  {
   "cell_type": "code",
   "execution_count": 68,
   "metadata": {},
   "outputs": [],
   "source": [
    "import pandas as pd\n",
    "import numpy as np\n",
    "import matplotlib.pyplot as plt\n",
    "import seaborn as sns\n",
    "\n",
    "# modeling \n",
    "from sklearn.ensemble import RandomForestRegressor\n",
    "# Model Performance and Cross Validating & Hyper Parameters Tuning\n",
    "from sklearn.model_selection import train_test_split, cross_val_score, GridSearchCV\n",
    "from sklearn.metrics import r2_score\n",
    "\n",
    "import warnings; warnings.simplefilter('ignore')"
   ]
  },
  {
   "cell_type": "code",
   "execution_count": 69,
   "metadata": {},
   "outputs": [],
   "source": [
    "data = pd.read_csv('data/taskrabbitdata.csv')"
   ]
  },
  {
   "cell_type": "code",
   "execution_count": 70,
   "metadata": {},
   "outputs": [],
   "source": [
    "# Boolean Masks\n",
    "#category masks\n",
    "fa_mask = data.category == 'Furniture Assembly'\n",
    "mh_mask = data.category == 'Moving Help'\n",
    "mo_mask = data.category == 'Mounting'\n",
    "# splitting dataset by category\n",
    "fa_data = data[fa_mask]\n",
    "mo_data = data[mo_mask]\n",
    "mh_data = data[mh_mask]"
   ]
  },
  {
   "cell_type": "code",
   "execution_count": 71,
   "metadata": {},
   "outputs": [],
   "source": [
    "def make_tasker_df(data):\n",
    "    \n",
    "    #grouping by tasker, creating series object and converting them to pandas df\n",
    "    # total times tasker was hired\n",
    "    hired = data.groupby('tasker_id')['hired'].sum()\n",
    "    # how many times tasker appeared on recommendation\n",
    "    rec_appeared = data.groupby('tasker_id')['recommendation_id'].count()\n",
    "    # making hire_rate metric column\n",
    "    hire_rate = (hired/rec_appeared).to_frame()\n",
    "    # decided to do max because this number is being updated overtime\n",
    "    tasks_count = data.groupby('tasker_id')['num_completed_tasks'].max().to_frame()\n",
    "    mean_hourly_rate = data.groupby('tasker_id')['hourly_rate'].mean().to_frame()\n",
    "    # merging into tasker df\n",
    "    tasker_df = pd.merge(hire_rate, tasks_count, how = 'right',on='tasker_id')\n",
    "    tasker_df = pd.merge(tasker_df, mean_hourly_rate, how = 'right', on = 'tasker_id')\n",
    "    tasker_df.columns = ['hire_rate', 'tasks_to_date', 'mean_hourly_rate']\n",
    "    return tasker_df\n",
    "\n",
    "\n",
    "def suggested_rate(tasker_df, data, category = 'fa'):\n",
    "    \n",
    "    #tasker status\n",
    "    tasks = tasker_df.tasks_to_date\n",
    "    new_tasker = tasks == 0\n",
    "    tasker = (tasks > 0) & (tasks < 150)\n",
    "    pro_tasker = (tasks >= 150) & (tasks <350)\n",
    "    super_pro_tasker = tasks >= 350\n",
    "    #hired mask\n",
    "    hired_mask = data.hired == 1\n",
    "    # category masks\n",
    "    fa_mask = data.category == 'Furniture Assembly'\n",
    "    mh_mask = data.category == 'Moving Help'\n",
    "    mo_mask = data.category == 'Mounting'\n",
    "\n",
    "    if category == 'fa':\n",
    "        # Furniture Assembly Hourly Rate Distribution Percentiles\n",
    "        fa_75 = np.percentile(data[hired_mask][fa_mask].hourly_rate, 75)  \n",
    "        med_hr_fa = data[hired_mask][fa_mask].hourly_rate.median()\n",
    "        fa_25 = np.percentile(data[hired_mask][fa_mask].hourly_rate, 25)\n",
    "        min_hr_fa = data[hired_mask][fa_mask].hourly_rate.min()\n",
    "        #calculating suggested rate\n",
    "        tasker_df['suggested_rate'] = np.where(tasks > 350, fa_75,0)\n",
    "        tasker_df['suggested_rate'] = np.where((tasks >= 150) & (tasks <350), med_hr_fa, tasker_df['suggested_rate'])\n",
    "        tasker_df['suggested_rate'] = np.where((tasks > 0) & (tasks < 150), fa_25, tasker_df['suggested_rate'])\n",
    "        tasker_df['suggested_rate'] = np.where(tasks == 0, min_hr_fa, tasker_df['suggested_rate'])\n",
    "        tasker_df['suggested_rate'] = np.where(tasker_df.hire_rate > 0.2, tasker_df.mean_hourly_rate,tasker_df['suggested_rate'])\n",
    "        return tasker_df\n",
    "    if category == 'mo':\n",
    "        # Mounting Hourly Rate Distribution Percentiles\n",
    "        min_hr_mo = data[hired_mask][mo_mask].hourly_rate.min()\n",
    "        med_hr_mo = data[hired_mask][mo_mask].hourly_rate.median()\n",
    "        mo_75 = np.percentile(data[hired_mask][mo_mask].hourly_rate, 75)  \n",
    "        mo_25 = np.percentile(data[hired_mask][mo_mask].hourly_rate, 25)\n",
    "        #calculating suggested rate\n",
    "        tasker_df['suggested_rate'] = np.where(tasks > 350, mo_75,0)\n",
    "        tasker_df['suggested_rate'] = np.where((tasks >= 150) & (tasks <350), med_hr_mo, tasker_df['suggested_rate'])\n",
    "        tasker_df['suggested_rate'] = np.where((tasks > 0) & (tasks < 150), mo_25, tasker_df['suggested_rate'])\n",
    "        tasker_df['suggested_rate'] = np.where(tasks == 0, min_hr_mo, tasker_df['suggested_rate'])\n",
    "        tasker_df['suggested_rate'] = np.where(tasker_df.hire_rate > 0.2, tasker_df.mean_hourly_rate,tasker_df['suggested_rate'])\n",
    "        return tasker_df\n",
    "    if category =='mh':\n",
    "        # Moving Help Rate Distribution Percentiles\n",
    "        min_hr_mh = data[hired_mask][mh_mask].hourly_rate.min()\n",
    "        med_hr_mh = data[hired_mask][mh_mask].hourly_rate.median()\n",
    "        mh_75 = np.percentile(data[hired_mask][mh_mask].hourly_rate, 75)  \n",
    "        mh_25 = np.percentile(data[hired_mask][mh_mask].hourly_rate, 25)\n",
    "        #calculating suggested rate\n",
    "        tasker_df['suggested_rate'] = np.where(tasks > 350, mh_75,0)\n",
    "        tasker_df['suggested_rate'] = np.where((tasks >= 150) & (tasks <350), med_hr_mh, tasker_df['suggested_rate'])\n",
    "        tasker_df['suggested_rate'] = np.where((tasks > 0) & (tasks < 150), mh_25, tasker_df['suggested_rate'])\n",
    "        tasker_df['suggested_rate'] = np.where(tasks == 0, min_hr_mh, tasker_df['suggested_rate'])\n",
    "        tasker_df['suggested_rate'] = np.where(tasker_df.hire_rate > 0.2, tasker_df.mean_hourly_rate,tasker_df['suggested_rate'])\n",
    "        return tasker_df\n",
    " "
   ]
  },
  {
   "cell_type": "code",
   "execution_count": 72,
   "metadata": {},
   "outputs": [
    {
     "data": {
      "text/html": [
       "<div>\n",
       "<style scoped>\n",
       "    .dataframe tbody tr th:only-of-type {\n",
       "        vertical-align: middle;\n",
       "    }\n",
       "\n",
       "    .dataframe tbody tr th {\n",
       "        vertical-align: top;\n",
       "    }\n",
       "\n",
       "    .dataframe thead th {\n",
       "        text-align: right;\n",
       "    }\n",
       "</style>\n",
       "<table border=\"1\" class=\"dataframe\">\n",
       "  <thead>\n",
       "    <tr style=\"text-align: right;\">\n",
       "      <th></th>\n",
       "      <th>hire_rate</th>\n",
       "      <th>tasks_to_date</th>\n",
       "      <th>mean_hourly_rate</th>\n",
       "    </tr>\n",
       "    <tr>\n",
       "      <th>tasker_id</th>\n",
       "      <th></th>\n",
       "      <th></th>\n",
       "      <th></th>\n",
       "    </tr>\n",
       "  </thead>\n",
       "  <tbody>\n",
       "    <tr>\n",
       "      <th>1006702141</th>\n",
       "      <td>0.000000</td>\n",
       "      <td>1</td>\n",
       "      <td>27.000000</td>\n",
       "    </tr>\n",
       "    <tr>\n",
       "      <th>1006712342</th>\n",
       "      <td>0.000000</td>\n",
       "      <td>2</td>\n",
       "      <td>27.333333</td>\n",
       "    </tr>\n",
       "    <tr>\n",
       "      <th>1006720321</th>\n",
       "      <td>0.111111</td>\n",
       "      <td>2</td>\n",
       "      <td>27.000000</td>\n",
       "    </tr>\n",
       "    <tr>\n",
       "      <th>1006720473</th>\n",
       "      <td>0.000000</td>\n",
       "      <td>0</td>\n",
       "      <td>29.000000</td>\n",
       "    </tr>\n",
       "    <tr>\n",
       "      <th>1006751673</th>\n",
       "      <td>0.000000</td>\n",
       "      <td>6</td>\n",
       "      <td>30.000000</td>\n",
       "    </tr>\n",
       "  </tbody>\n",
       "</table>\n",
       "</div>"
      ],
      "text/plain": [
       "            hire_rate  tasks_to_date  mean_hourly_rate\n",
       "tasker_id                                             \n",
       "1006702141   0.000000              1         27.000000\n",
       "1006712342   0.000000              2         27.333333\n",
       "1006720321   0.111111              2         27.000000\n",
       "1006720473   0.000000              0         29.000000\n",
       "1006751673   0.000000              6         30.000000"
      ]
     },
     "execution_count": 72,
     "metadata": {},
     "output_type": "execute_result"
    }
   ],
   "source": [
    "fa_tasker = make_tasker_df(fa_data)\n",
    "fa_tasker.head(5)"
   ]
  },
  {
   "cell_type": "code",
   "execution_count": 113,
   "metadata": {},
   "outputs": [
    {
     "data": {
      "text/html": [
       "<div>\n",
       "<style scoped>\n",
       "    .dataframe tbody tr th:only-of-type {\n",
       "        vertical-align: middle;\n",
       "    }\n",
       "\n",
       "    .dataframe tbody tr th {\n",
       "        vertical-align: top;\n",
       "    }\n",
       "\n",
       "    .dataframe thead th {\n",
       "        text-align: right;\n",
       "    }\n",
       "</style>\n",
       "<table border=\"1\" class=\"dataframe\">\n",
       "  <thead>\n",
       "    <tr style=\"text-align: right;\">\n",
       "      <th></th>\n",
       "      <th>hire_rate</th>\n",
       "      <th>tasks_to_date</th>\n",
       "      <th>suggested_rate</th>\n",
       "    </tr>\n",
       "    <tr>\n",
       "      <th>tasker_id</th>\n",
       "      <th></th>\n",
       "      <th></th>\n",
       "      <th></th>\n",
       "    </tr>\n",
       "  </thead>\n",
       "  <tbody>\n",
       "    <tr>\n",
       "      <th>1006892359</th>\n",
       "      <td>0.047619</td>\n",
       "      <td>247</td>\n",
       "      <td>38.0</td>\n",
       "    </tr>\n",
       "    <tr>\n",
       "      <th>1009264688</th>\n",
       "      <td>0.043478</td>\n",
       "      <td>211</td>\n",
       "      <td>38.0</td>\n",
       "    </tr>\n",
       "    <tr>\n",
       "      <th>1010808301</th>\n",
       "      <td>0.000000</td>\n",
       "      <td>80</td>\n",
       "      <td>30.0</td>\n",
       "    </tr>\n",
       "    <tr>\n",
       "      <th>1008042586</th>\n",
       "      <td>1.000000</td>\n",
       "      <td>452</td>\n",
       "      <td>65.0</td>\n",
       "    </tr>\n",
       "    <tr>\n",
       "      <th>1007996057</th>\n",
       "      <td>0.000000</td>\n",
       "      <td>14</td>\n",
       "      <td>30.0</td>\n",
       "    </tr>\n",
       "    <tr>\n",
       "      <th>1011983949</th>\n",
       "      <td>0.000000</td>\n",
       "      <td>0</td>\n",
       "      <td>22.0</td>\n",
       "    </tr>\n",
       "    <tr>\n",
       "      <th>1010050423</th>\n",
       "      <td>0.097561</td>\n",
       "      <td>283</td>\n",
       "      <td>38.0</td>\n",
       "    </tr>\n",
       "    <tr>\n",
       "      <th>1008008634</th>\n",
       "      <td>0.000000</td>\n",
       "      <td>287</td>\n",
       "      <td>38.0</td>\n",
       "    </tr>\n",
       "    <tr>\n",
       "      <th>1009370074</th>\n",
       "      <td>0.000000</td>\n",
       "      <td>23</td>\n",
       "      <td>30.0</td>\n",
       "    </tr>\n",
       "    <tr>\n",
       "      <th>1009623489</th>\n",
       "      <td>0.000000</td>\n",
       "      <td>334</td>\n",
       "      <td>38.0</td>\n",
       "    </tr>\n",
       "  </tbody>\n",
       "</table>\n",
       "</div>"
      ],
      "text/plain": [
       "            hire_rate  tasks_to_date  suggested_rate\n",
       "tasker_id                                           \n",
       "1006892359   0.047619            247            38.0\n",
       "1009264688   0.043478            211            38.0\n",
       "1010808301   0.000000             80            30.0\n",
       "1008042586   1.000000            452            65.0\n",
       "1007996057   0.000000             14            30.0\n",
       "1011983949   0.000000              0            22.0\n",
       "1010050423   0.097561            283            38.0\n",
       "1008008634   0.000000            287            38.0\n",
       "1009370074   0.000000             23            30.0\n",
       "1009623489   0.000000            334            38.0"
      ]
     },
     "execution_count": 113,
     "metadata": {},
     "output_type": "execute_result"
    }
   ],
   "source": [
    "fa_tasker = suggested_rate(fa_tasker, data, category = 'fa')\n",
    "fa_tasker[['hire_rate', 'tasks_to_date','suggested_rate']].sample(10)"
   ]
  },
  {
   "cell_type": "code",
   "execution_count": 108,
   "metadata": {},
   "outputs": [
    {
     "data": {
      "text/plain": [
       "Text(0, 0.5, 'hourly_rate')"
      ]
     },
     "execution_count": 108,
     "metadata": {},
     "output_type": "execute_result"
    },
    {
     "data": {
      "image/png": "[encoded data removed]",
      "text/plain": [
       "<Figure size 720x288 with 1 Axes>"
      ]
     },
     "metadata": {
      "needs_background": "light"
     },
     "output_type": "display_data"
    },
    {
     "data": {
      "image/png": "[encoded data removed]",
      "text/plain": [
       "<Figure size 720x288 with 1 Axes>"
      ]
     },
     "metadata": {
      "needs_background": "light"
     },
     "output_type": "display_data"
    }
   ],
   "source": [
    "plt.figure(figsize = (10, 4))\n",
    "plt.title('Suggested_Hourly_Rate vs Num_Tasks \\n Furniture Assembly')\n",
    "plt.scatter(x = fa_tasker.tasks_to_date,\n",
    "            y = fa_tasker.suggested_rate, \n",
    "            alpha=1, color = 'lightpink', \n",
    "            edgecolor = 'purple', linewidth = 1)\n",
    "plt.xlabel('num_tasks')\n",
    "plt.ylabel('hourly_rate')\n",
    "\n",
    "plt.figure(figsize = (10, 4))\n",
    "plt.title('Hourly_Rate VS Num_Tasks \\n Furniture Assembly')\n",
    "plt.scatter(x = fa_tasker.hire_rate,\n",
    "            y = fa_tasker.suggested_rate, \n",
    "            alpha=1, color = 'linen', \n",
    "            edgecolor = 'orange', linewidth = 1)\n",
    "plt.xlabel('hireability rate')\n",
    "plt.ylabel('hourly_rate')"
   ]
  },
  {
   "cell_type": "markdown",
   "metadata": {},
   "source": [
    "### Preparing Data for Modeling\n",
    "                "
   ]
  },
  {
   "cell_type": "code",
   "execution_count": 16,
   "metadata": {},
   "outputs": [
    {
     "data": {
      "text/plain": [
       "Index(['hire_rate', 'tasks_to_date', 'mean_hourly_rate', 'suggested_rate'], dtype='object')"
      ]
     },
     "execution_count": 16,
     "metadata": {},
     "output_type": "execute_result"
    }
   ],
   "source": [
    "fa_tasker.columns"
   ]
  },
  {
   "cell_type": "code",
   "execution_count": 21,
   "metadata": {},
   "outputs": [
    {
     "data": {
      "text/plain": [
       "((514, 2), (514,), numpy.ndarray, numpy.ndarray)"
      ]
     },
     "execution_count": 21,
     "metadata": {},
     "output_type": "execute_result"
    }
   ],
   "source": [
    "X = fa_tasker[['hire_rate', 'tasks_to_date']].values\n",
    "y = fa_tasker['suggested_rate'].values\n",
    "X.shape, y.shape, type(X), type(y)"
   ]
  },
  {
   "cell_type": "markdown",
   "metadata": {},
   "source": [
    "### Creating Training and Test set for cross validation"
   ]
  },
  {
   "cell_type": "code",
   "execution_count": 28,
   "metadata": {},
   "outputs": [],
   "source": [
    "X_train, X_test, y_train, y_test = train_test_split(X, y, test_size=0.25, random_state=42)"
   ]
  },
  {
   "cell_type": "markdown",
   "metadata": {},
   "source": [
    "Choosing to go with **Random Forest Regression Model** because no linear relationships observed. "
   ]
  },
  {
   "cell_type": "code",
   "execution_count": 56,
   "metadata": {},
   "outputs": [],
   "source": [
    "fa_model = RandomForestRegressor(max_depth=8, random_state=0, \n",
    "                                 n_estimators=12, max_features = 'log2', min_samples_split = 14).fit(X_train, y_train)\n",
    "y_pred = fa_model.predict(X_test)"
   ]
  },
  {
   "cell_type": "code",
   "execution_count": 57,
   "metadata": {},
   "outputs": [
    {
     "data": {
      "text/plain": [
       "array([-1.64848734, -3.0671261 , -1.79185561, -1.59067956, -0.61916716,\n",
       "       -0.3187598 , -0.60664189, -0.79695657, -0.48670315, -0.65513251])"
      ]
     },
     "execution_count": 57,
     "metadata": {},
     "output_type": "execute_result"
    }
   ],
   "source": [
    "scores = cross_val_score(fa_model, X, y, cv=10, scoring='neg_mean_absolute_error')\n",
    "scores"
   ]
  },
  {
   "cell_type": "code",
   "execution_count": 81,
   "metadata": {},
   "outputs": [
    {
     "name": "stdout",
     "output_type": "stream",
     "text": [
      "Mean Absolute Error:  0.5476\n",
      "R2 Score:  0.8556\n"
     ]
    }
   ],
   "source": [
    "print('Mean Absolute Error: ', round(mean_absolute_error(y_test, y_pred),4))\n",
    "print (\"R2 Score: \", round(r2_score(y_test,y_pred),4))"
   ]
  },
  {
   "cell_type": "markdown",
   "metadata": {},
   "source": [
    "To suggest hourly rate model needs two input numbers:\n",
    "* hire_rate from last month;\n",
    "* number of completed tasks to date\n",
    "\n",
    "For example:"
   ]
  },
  {
   "cell_type": "code",
   "execution_count": 100,
   "metadata": {},
   "outputs": [
    {
     "name": "stdout",
     "output_type": "stream",
     "text": [
      "Suggested Hourly Rate:  31.67\n"
     ]
    }
   ],
   "source": [
    "suggested_hourly_rate = fa_model.predict([[0.1, 350]])\n",
    "print('Suggested Hourly Rate: ', round(y_pred[0], 2))"
   ]
  },
  {
   "cell_type": "code",
   "execution_count": 127,
   "metadata": {},
   "outputs": [],
   "source": [
    "def model(tasker_df, to_predict):\n",
    "    '''\n",
    "    INPUT: Tasker df, pandas object;\n",
    "           to_predict: LIST of two values (orlist of lists of pair values)\n",
    "    \n",
    "    OUTPUT: prints MAE, R2, prediction on input\n",
    "    '''\n",
    "    X = tasker_df[['hire_rate', 'tasks_to_date']].values\n",
    "    y = tasker_df['suggested_rate'].values\n",
    "    X_train, X_test, y_train, y_test = train_test_split(X, y, test_size=0.25, random_state=42)\n",
    "    model = RandomForestRegressor(max_depth=8, random_state=0, \n",
    "                                 n_estimators=12, max_features = 'log2', min_samples_split = 14).fit(X_train, y_train)\n",
    "    y_pred = fa_model.predict(X_test)\n",
    "    suggested_rate = model.predict(to_predict)\n",
    "    print('Mean Absolute Error: ', round(mean_absolute_error(y_test, y_pred),4))\n",
    "    print (\"R2 Score: \", round(r2_score(y_test,y_pred),4))\n",
    "    print('Suggested Rate is: ', round(suggested_rate[0],2))\n",
    "    \n",
    "    "
   ]
  },
  {
   "cell_type": "code",
   "execution_count": 128,
   "metadata": {},
   "outputs": [
    {
     "name": "stdout",
     "output_type": "stream",
     "text": [
      "Mean Absolute Error:  0.5476\n",
      "R2 Score:  0.8556\n",
      "Suggested Rate is:  48.6\n"
     ]
    }
   ],
   "source": [
    "fa = model(fa_tasker, [[0.3, 500]])"
   ]
  },
  {
   "cell_type": "markdown",
   "metadata": {},
   "source": [
    "### Same with Mounting Category: "
   ]
  },
  {
   "cell_type": "code",
   "execution_count": 125,
   "metadata": {},
   "outputs": [
    {
     "data": {
      "text/html": [
       "<div>\n",
       "<style scoped>\n",
       "    .dataframe tbody tr th:only-of-type {\n",
       "        vertical-align: middle;\n",
       "    }\n",
       "\n",
       "    .dataframe tbody tr th {\n",
       "        vertical-align: top;\n",
       "    }\n",
       "\n",
       "    .dataframe thead th {\n",
       "        text-align: right;\n",
       "    }\n",
       "</style>\n",
       "<table border=\"1\" class=\"dataframe\">\n",
       "  <thead>\n",
       "    <tr style=\"text-align: right;\">\n",
       "      <th></th>\n",
       "      <th>hire_rate</th>\n",
       "      <th>tasks_to_date</th>\n",
       "      <th>mean_hourly_rate</th>\n",
       "      <th>suggested_rate</th>\n",
       "    </tr>\n",
       "    <tr>\n",
       "      <th>tasker_id</th>\n",
       "      <th></th>\n",
       "      <th></th>\n",
       "      <th></th>\n",
       "      <th></th>\n",
       "    </tr>\n",
       "  </thead>\n",
       "  <tbody>\n",
       "    <tr>\n",
       "      <th>1006712342</th>\n",
       "      <td>0.0</td>\n",
       "      <td>2</td>\n",
       "      <td>26.5625</td>\n",
       "      <td>43.0</td>\n",
       "    </tr>\n",
       "    <tr>\n",
       "      <th>1006720321</th>\n",
       "      <td>0.0</td>\n",
       "      <td>2</td>\n",
       "      <td>34.0000</td>\n",
       "      <td>43.0</td>\n",
       "    </tr>\n",
       "    <tr>\n",
       "      <th>1006720473</th>\n",
       "      <td>0.0</td>\n",
       "      <td>0</td>\n",
       "      <td>38.0000</td>\n",
       "      <td>26.0</td>\n",
       "    </tr>\n",
       "  </tbody>\n",
       "</table>\n",
       "</div>"
      ],
      "text/plain": [
       "            hire_rate  tasks_to_date  mean_hourly_rate  suggested_rate\n",
       "tasker_id                                                             \n",
       "1006712342        0.0              2           26.5625            43.0\n",
       "1006720321        0.0              2           34.0000            43.0\n",
       "1006720473        0.0              0           38.0000            26.0"
      ]
     },
     "execution_count": 125,
     "metadata": {},
     "output_type": "execute_result"
    }
   ],
   "source": [
    "mo_tasker = make_tasker_df(mo_data)\n",
    "mo_tasker = suggested_rate(mo_tasker, data, category = 'mo')\n",
    "mo_tasker.head(3)"
   ]
  },
  {
   "cell_type": "code",
   "execution_count": 126,
   "metadata": {},
   "outputs": [
    {
     "data": {
      "text/plain": [
       "Text(0, 0.5, 'hourly_rate')"
      ]
     },
     "execution_count": 126,
     "metadata": {},
     "output_type": "execute_result"
    },
    {
     "data": {
      "image/png": "[encoded data removed]",
      "text/plain": [
       "<Figure size 720x288 with 1 Axes>"
      ]
     },
     "metadata": {
      "needs_background": "light"
     },
     "output_type": "display_data"
    },
    {
     "data": {
      "image/png": "[encoded data removed]",
      "text/plain": [
       "<Figure size 720x288 with 1 Axes>"
      ]
     },
     "metadata": {
      "needs_background": "light"
     },
     "output_type": "display_data"
    }
   ],
   "source": [
    "plt.figure(figsize = (10, 4))\n",
    "plt.title('Suggested_Hourly_Rate vs Num_Tasks \\n Mounting')\n",
    "plt.scatter(x = mo_tasker.tasks_to_date,\n",
    "            y = mo_tasker.suggested_rate, \n",
    "            alpha=1, color = 'lightpink', \n",
    "            edgecolor = 'purple', linewidth = 1)\n",
    "plt.xlabel('num_tasks')\n",
    "plt.ylabel('hourly_rate')\n",
    "\n",
    "plt.figure(figsize = (10, 4))\n",
    "plt.title('Hourly_Rate VS Num_Tasks \\n Mounting')\n",
    "plt.scatter(x = mo_tasker.hire_rate,\n",
    "            y = mo_tasker.suggested_rate, \n",
    "            alpha=1, color = 'linen', \n",
    "            edgecolor = 'orange', linewidth = 1)\n",
    "plt.xlabel('hireability rate')\n",
    "plt.ylabel('hourly_rate')"
   ]
  },
  {
   "cell_type": "code",
   "execution_count": 136,
   "metadata": {},
   "outputs": [
    {
     "name": "stdout",
     "output_type": "stream",
     "text": [
      "Mean Absolute Error:  10.5819\n",
      "R2 Score:  -0.441\n",
      "Suggested Rate is:  53.92\n"
     ]
    }
   ],
   "source": [
    "mo = model(mo_tasker, [[0.1, 500]])\n",
    "# not ideal here, need to look at the model further"
   ]
  },
  {
   "cell_type": "markdown",
   "metadata": {},
   "source": [
    "### Moving Help"
   ]
  },
  {
   "cell_type": "code",
   "execution_count": 137,
   "metadata": {},
   "outputs": [
    {
     "data": {
      "text/html": [
       "<div>\n",
       "<style scoped>\n",
       "    .dataframe tbody tr th:only-of-type {\n",
       "        vertical-align: middle;\n",
       "    }\n",
       "\n",
       "    .dataframe tbody tr th {\n",
       "        vertical-align: top;\n",
       "    }\n",
       "\n",
       "    .dataframe thead th {\n",
       "        text-align: right;\n",
       "    }\n",
       "</style>\n",
       "<table border=\"1\" class=\"dataframe\">\n",
       "  <thead>\n",
       "    <tr style=\"text-align: right;\">\n",
       "      <th></th>\n",
       "      <th>hire_rate</th>\n",
       "      <th>tasks_to_date</th>\n",
       "      <th>mean_hourly_rate</th>\n",
       "      <th>suggested_rate</th>\n",
       "    </tr>\n",
       "    <tr>\n",
       "      <th>tasker_id</th>\n",
       "      <th></th>\n",
       "      <th></th>\n",
       "      <th></th>\n",
       "      <th></th>\n",
       "    </tr>\n",
       "  </thead>\n",
       "  <tbody>\n",
       "    <tr>\n",
       "      <th>1006646767</th>\n",
       "      <td>0.000000</td>\n",
       "      <td>255</td>\n",
       "      <td>24.000000</td>\n",
       "      <td>50.0</td>\n",
       "    </tr>\n",
       "    <tr>\n",
       "      <th>1006648538</th>\n",
       "      <td>0.040404</td>\n",
       "      <td>63</td>\n",
       "      <td>95.858586</td>\n",
       "      <td>43.0</td>\n",
       "    </tr>\n",
       "    <tr>\n",
       "      <th>1006655883</th>\n",
       "      <td>0.000000</td>\n",
       "      <td>210</td>\n",
       "      <td>75.000000</td>\n",
       "      <td>50.0</td>\n",
       "    </tr>\n",
       "  </tbody>\n",
       "</table>\n",
       "</div>"
      ],
      "text/plain": [
       "            hire_rate  tasks_to_date  mean_hourly_rate  suggested_rate\n",
       "tasker_id                                                             \n",
       "1006646767   0.000000            255         24.000000            50.0\n",
       "1006648538   0.040404             63         95.858586            43.0\n",
       "1006655883   0.000000            210         75.000000            50.0"
      ]
     },
     "execution_count": 137,
     "metadata": {},
     "output_type": "execute_result"
    }
   ],
   "source": [
    "mh_tasker = make_tasker_df(mh_data)\n",
    "mh_tasker = suggested_rate(mh_tasker, data, category = 'mo')\n",
    "mh_tasker.head(3)"
   ]
  },
  {
   "cell_type": "code",
   "execution_count": 138,
   "metadata": {},
   "outputs": [
    {
     "data": {
      "text/plain": [
       "Text(0, 0.5, 'hourly_rate')"
      ]
     },
     "execution_count": 138,
     "metadata": {},
     "output_type": "execute_result"
    },
    {
     "data": {
      "image/png": "[encoded data removed]",
      "text/plain": [
       "<Figure size 720x288 with 1 Axes>"
      ]
     },
     "metadata": {
      "needs_background": "light"
     },
     "output_type": "display_data"
    },
    {
     "data": {
      "image/png": "[encoded data removed]",
      "text/plain": [
       "<Figure size 720x288 with 1 Axes>"
      ]
     },
     "metadata": {
      "needs_background": "light"
     },
     "output_type": "display_data"
    }
   ],
   "source": [
    "plt.figure(figsize = (10, 4))\n",
    "plt.title('Suggested_Hourly_Rate vs Num_Tasks \\n Moving Help')\n",
    "plt.scatter(x = mh_tasker.tasks_to_date,\n",
    "            y = mh_tasker.suggested_rate, \n",
    "            alpha=1, color = 'lightpink', \n",
    "            edgecolor = 'purple', linewidth = 1)\n",
    "plt.xlabel('num_tasks')\n",
    "plt.ylabel('hourly_rate')\n",
    "\n",
    "plt.figure(figsize = (10, 4))\n",
    "plt.title('Hourly_Rate VS Num_Tasks \\n Moving Help')\n",
    "plt.scatter(x = mo_tasker.hire_rate,\n",
    "            y = mo_tasker.suggested_rate, \n",
    "            alpha=1, color = 'linen', \n",
    "            edgecolor = 'orange', linewidth = 1)\n",
    "plt.xlabel('hireability rate')\n",
    "plt.ylabel('hourly_rate')"
   ]
  },
  {
   "cell_type": "code",
   "execution_count": 139,
   "metadata": {},
   "outputs": [
    {
     "name": "stdout",
     "output_type": "stream",
     "text": [
      "Mean Absolute Error:  12.3892\n",
      "R2 Score:  -0.6267\n",
      "Suggested Rate is:  43.93\n"
     ]
    }
   ],
   "source": [
    "mh = model(mh_tasker, [[0.3, 350]])"
   ]
  },
  {
   "cell_type": "markdown",
   "metadata": {},
   "source": [
    "#### Tuning Hyperparameters"
   ]
  },
  {
   "cell_type": "code",
   "execution_count": 54,
   "metadata": {},
   "outputs": [
    {
     "data": {
      "text/plain": [
       "(0.7642035263074989,\n",
       " {'bootstrap': True,\n",
       "  'max_depth': 8,\n",
       "  'max_features': 'log2',\n",
       "  'min_samples_split': 14,\n",
       "  'n_estimators': 12})"
      ]
     },
     "execution_count": 54,
     "metadata": {},
     "output_type": "execute_result"
    }
   ],
   "source": [
    "def Grid_Search_CV_RFR(X_train, y_train):\n",
    "  \n",
    "\n",
    "    estimator = RandomForestRegressor()\n",
    "    param_grid = { \n",
    "            \"n_estimators\"      : [10,12, 14,16,20,50],\n",
    "            \"max_features\"      : [\"auto\", \"sqrt\", \"log2\"],\n",
    "            \"min_samples_split\" : [12,14,16,18, 20, 40, 60],\n",
    "            \"bootstrap\": [True, False],\n",
    "            \"max_depth\"         : [2,4,6,8,10,16]\n",
    "            }\n",
    "\n",
    "    grid = GridSearchCV(estimator, param_grid, n_jobs=-1, cv=5)\n",
    "\n",
    "    grid.fit(X_train, y_train)\n",
    "\n",
    "    return grid.best_score_ , grid.best_params_\n",
    "Grid_Search_CV_RFR(X_train, y_train)"
   ]
  }
 ],
 "metadata": {
  "kernelspec": {
   "display_name": "Python 3",
   "language": "python",
   "name": "python3"
  },
  "language_info": {
   "codemirror_mode": {
    "name": "ipython",
    "version": 3
   },
   "file_extension": ".py",
   "mimetype": "text/x-python",
   "name": "python",
   "nbconvert_exporter": "python",
   "pygments_lexer": "ipython3",
   "version": "3.6.8"
  }
 },
 "nbformat": 4,
 "nbformat_minor": 2
}
